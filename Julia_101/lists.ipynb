{
 "cells": [
  {
   "cell_type": "code",
   "execution_count": 1,
   "id": "f509c779-4d11-4649-aa62-3abb3713a7bd",
   "metadata": {},
   "outputs": [
    {
     "data": {
      "text/plain": [
       "3-element Vector{Float64}:\n",
       " 115910.26\n",
       "    128.0\n",
       "      4.0"
      ]
     },
     "execution_count": 1,
     "metadata": {},
     "output_type": "execute_result"
    }
   ],
   "source": [
    "house_0_list = [115910.26, 128, 4]"
   ]
  },
  {
   "cell_type": "code",
   "execution_count": 4,
   "id": "e541eab5-6c08-489b-be6e-1f21076faf4a",
   "metadata": {},
   "outputs": [
    {
     "name": "stdout",
     "output_type": "stream",
     "text": [
      "house_0_list Vector{Float64}\n"
     ]
    }
   ],
   "source": [
    "println(\"house_0_list \", typeof(house_0_list))"
   ]
  },
  {
   "cell_type": "code",
   "execution_count": null,
   "id": "66def7fb-b7fa-47cf-a2ff-ab7b2172bf89",
   "metadata": {},
   "outputs": [],
   "source": []
  }
 ],
 "metadata": {
  "kernelspec": {
   "display_name": "Julia 1.10.2",
   "language": "julia",
   "name": "julia-1.10"
  },
  "language_info": {
   "file_extension": ".jl",
   "mimetype": "application/julia",
   "name": "julia",
   "version": "1.10.2"
  }
 },
 "nbformat": 4,
 "nbformat_minor": 5
}
