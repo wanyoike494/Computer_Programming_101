{
 "cells": [
  {
   "cell_type": "code",
   "execution_count": 1,
   "id": "6086c59b-3a2a-4c6e-b80f-285a91d18877",
   "metadata": {},
   "outputs": [
    {
     "data": {
      "text/plain": [
       "5-element Vector{Dict{String, Real}}:\n",
       " Dict(\"rooms\" => 4, \"surface_covered_in_m2\" => 128, \"price_approx_usd\" => 115910.26)\n",
       " Dict(\"rooms\" => 3, \"surface_covered_in_m2\" => 210, \"price_approx_usd\" => 48718.17)\n",
       " Dict(\"rooms\" => 2, \"surface_covered_in_m2\" => 58, \"price_approx_usd\" => 28977.56)\n",
       " Dict(\"rooms\" => 3, \"surface_covered_in_m2\" => 79, \"price_approx_usd\" => 36932.27)\n",
       " Dict(\"rooms\" => 3, \"surface_covered_in_m2\" => 111, \"price_approx_usd\" => 83903.51)"
      ]
     },
     "execution_count": 1,
     "metadata": {},
     "output_type": "execute_result"
    }
   ],
   "source": [
    "houses_rowwise = [\n",
    "    Dict(\"price_approx_usd\" => 115910.26,\n",
    "         \"surface_covered_in_m2\" => 128,\n",
    "         \"rooms\" => 4),\n",
    "    \n",
    "    Dict(\"price_approx_usd\" => 48718.17,\n",
    "         \"surface_covered_in_m2\" => 210,\n",
    "         \"rooms\" => 3),\n",
    "    \n",
    "    Dict(\"price_approx_usd\" => 28977.56,\n",
    "         \"surface_covered_in_m2\" => 58,\n",
    "         \"rooms\" => 2),\n",
    "    \n",
    "    Dict(\"price_approx_usd\" => 36932.27,\n",
    "         \"surface_covered_in_m2\" => 79,\n",
    "         \"rooms\" => 3),\n",
    "    \n",
    "    Dict(\"price_approx_usd\" => 83903.51,\n",
    "         \"surface_covered_in_m2\" => 111,\n",
    "         \"rooms\" => 3)\n",
    "]\n"
   ]
  },
  {
   "cell_type": "code",
   "execution_count": 2,
   "id": "42544f5c-fb8a-4081-bdc3-50bf3b6e4061",
   "metadata": {},
   "outputs": [
    {
     "data": {
      "text/plain": [
       "5-element Vector{Dict{String, Real}}:\n",
       " Dict(\"rooms\" => 4, \"surface_covered_in_m2\" => 128, \"price_approx_usd\" => 115910.26)\n",
       " Dict(\"rooms\" => 3, \"surface_covered_in_m2\" => 210, \"price_approx_usd\" => 48718.17)\n",
       " Dict(\"rooms\" => 2, \"surface_covered_in_m2\" => 58, \"price_approx_usd\" => 28977.56)\n",
       " Dict(\"rooms\" => 3, \"surface_covered_in_m2\" => 79, \"price_approx_usd\" => 36932.27)\n",
       " Dict(\"rooms\" => 3, \"surface_covered_in_m2\" => 111, \"price_approx_usd\" => 83903.51)"
      ]
     },
     "execution_count": 2,
     "metadata": {},
     "output_type": "execute_result"
    }
   ],
   "source": [
    "houses_rowwise"
   ]
  },
  {
   "cell_type": "code",
   "execution_count": null,
   "id": "ab894362-19dc-4f07-9051-f955cf3b20c4",
   "metadata": {},
   "outputs": [],
   "source": []
  }
 ],
 "metadata": {
  "kernelspec": {
   "display_name": "Julia 1.10.2",
   "language": "julia",
   "name": "julia-1.10"
  },
  "language_info": {
   "file_extension": ".jl",
   "mimetype": "application/julia",
   "name": "julia",
   "version": "1.10.2"
  }
 },
 "nbformat": 4,
 "nbformat_minor": 5
}
