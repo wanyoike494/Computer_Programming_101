{
 "cells": [
  {
   "cell_type": "code",
   "execution_count": 2,
   "id": "67bb82b6-10e6-4900-a906-56cd026bb036",
   "metadata": {},
   "outputs": [],
   "source": [
    "house_0_list = [115910.26, 128, 4]"
   ]
  },
  {
   "cell_type": "code",
   "execution_count": 3,
   "id": "b54a24f4-2a0d-49a9-90b9-3a5e13d948be",
   "metadata": {},
   "outputs": [
    {
     "name": "stdout",
     "output_type": "stream",
     "text": [
      "[115910.26, 128, 4] <class 'list'>\n"
     ]
    }
   ],
   "source": [
    "print(house_0_list, type(house_0_list))"
   ]
  },
  {
   "cell_type": "code",
   "execution_count": null,
   "id": "7a47a526-cb61-4ec8-a71f-cfa54a19b789",
   "metadata": {},
   "outputs": [],
   "source": []
  }
 ],
 "metadata": {
  "kernelspec": {
   "display_name": "Python 3 (ipykernel)",
   "language": "python",
   "name": "python3"
  },
  "language_info": {
   "codemirror_mode": {
    "name": "ipython",
    "version": 3
   },
   "file_extension": ".py",
   "mimetype": "text/x-python",
   "name": "python",
   "nbconvert_exporter": "python",
   "pygments_lexer": "ipython3",
   "version": "3.12.2"
  }
 },
 "nbformat": 4,
 "nbformat_minor": 5
}
