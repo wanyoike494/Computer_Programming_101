{
 "cells": [
  {
   "cell_type": "code",
   "execution_count": 1,
   "id": "740c60f3-99a5-43ce-8f94-92b74cdde08b",
   "metadata": {},
   "outputs": [],
   "source": [
    "from IPython.display import VimeoVideo"
   ]
  },
  {
   "cell_type": "code",
   "execution_count": 4,
   "id": "dbff1754-0c17-4eff-b050-76ac5ade50c0",
   "metadata": {},
   "outputs": [
    {
     "data": {
      "text/html": [
       "\n",
       "        <iframe\n",
       "            width=\"800\"\n",
       "            height=\"800\"\n",
       "            src=\"https://player.vimeo.com/video/656701336?h=c3a3e9bc16\"\n",
       "            frameborder=\"0\"\n",
       "            allowfullscreen\n",
       "            \n",
       "        ></iframe>\n",
       "        "
      ],
      "text/plain": [
       "<IPython.lib.display.VimeoVideo at 0x11860c0a090>"
      ]
     },
     "execution_count": 4,
     "metadata": {},
     "output_type": "execute_result"
    }
   ],
   "source": [
    "VimeoVideo(\"656701336\", h=\"c3a3e9bc16\", width=800, height = 800)"
   ]
  },
  {
   "cell_type": "code",
   "execution_count": null,
   "id": "34ed33ad-9688-480a-9fb0-70352c06004e",
   "metadata": {},
   "outputs": [],
   "source": []
  }
 ],
 "metadata": {
  "kernelspec": {
   "display_name": "Python 3 (ipykernel)",
   "language": "python",
   "name": "python3"
  },
  "language_info": {
   "codemirror_mode": {
    "name": "ipython",
    "version": 3
   },
   "file_extension": ".py",
   "mimetype": "text/x-python",
   "name": "python",
   "nbconvert_exporter": "python",
   "pygments_lexer": "ipython3",
   "version": "3.12.2"
  }
 },
 "nbformat": 4,
 "nbformat_minor": 5
}
