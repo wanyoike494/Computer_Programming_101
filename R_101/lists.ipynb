{
 "cells": [
  {
   "cell_type": "code",
   "execution_count": 4,
   "id": "9cd6144c-a508-424f-833f-fbba116cf1db",
   "metadata": {},
   "outputs": [],
   "source": [
    "house <- list(115910.26, 128, 4)"
   ]
  },
  {
   "cell_type": "code",
   "execution_count": 9,
   "id": "51529818-5d3d-44da-98be-7177cc143cf3",
   "metadata": {},
   "outputs": [
    {
     "name": "stdout",
     "output_type": "stream",
     "text": [
      "house list"
     ]
    }
   ],
   "source": [
    "cat(\"house\" , class(house))"
   ]
  },
  {
   "cell_type": "code",
   "execution_count": null,
   "id": "ffacf558-9873-43d6-bce7-0f4c131a4c1a",
   "metadata": {},
   "outputs": [],
   "source": []
  }
 ],
 "metadata": {
  "kernelspec": {
   "display_name": "R",
   "language": "R",
   "name": "ir"
  },
  "language_info": {
   "codemirror_mode": "r",
   "file_extension": ".r",
   "mimetype": "text/x-r-source",
   "name": "R",
   "pygments_lexer": "r",
   "version": "4.3.3"
  }
 },
 "nbformat": 4,
 "nbformat_minor": 5
}
